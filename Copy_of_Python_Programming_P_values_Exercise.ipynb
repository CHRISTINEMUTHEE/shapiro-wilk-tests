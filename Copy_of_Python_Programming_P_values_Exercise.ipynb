{
  "nbformat": 4,
  "nbformat_minor": 0,
  "metadata": {
    "colab": {
      "name": "Copy of Python Programming: P-values Exercise",
      "provenance": [],
      "collapsed_sections": [
        "6mM9tSmjPe_z",
        "GBzjNgPqPkUQ",
        "0MlbMO7mPoO8",
        "yGGq-E5IPrqz",
        "pI5iuOyWPtiy",
        "bJACLM_aPxgh"
      ],
      "include_colab_link": true
    },
    "kernelspec": {
      "name": "python3",
      "display_name": "Python 3"
    }
  },
  "cells": [
    {
      "cell_type": "markdown",
      "metadata": {
        "id": "view-in-github",
        "colab_type": "text"
      },
      "source": [
        "<a href=\"https://colab.research.google.com/github/CHRISTINEMUTHEE/shapiro-wilk-tests/blob/master/Copy_of_Python_Programming_P_values_Exercise.ipynb\" target=\"_parent\"><img src=\"https://colab.research.google.com/assets/colab-badge.svg\" alt=\"Open In Colab\"/></a>"
      ]
    },
    {
      "cell_type": "markdown",
      "metadata": {
        "id": "zET8mJ6x00P5"
      },
      "source": [
        "<font color=\"green\">*To start working on this notebook, or any other notebook that we will use in the Moringa Data Science Course, we will need to save our own copy of it. We can do this by clicking File > Save a Copy in Drive. We will then be able to make edits to our own copy of this notebook.*</font>"
      ]
    },
    {
      "cell_type": "markdown",
      "metadata": {
        "id": "9aiC1Pw8PUOK"
      },
      "source": [
        "# Python Programming: P-values Exercise"
      ]
    },
    {
      "cell_type": "markdown",
      "metadata": {
        "id": "6mM9tSmjPe_z"
      },
      "source": [
        "## Question 1"
      ]
    },
    {
      "cell_type": "markdown",
      "metadata": {
        "id": "TvPSIOCVP7h_"
      },
      "source": [
        "The Ministry of Roads and Transportation requires tire manufacturers to provide performance information on tire sidewalls to help prospective buyers make their purchasing decisions. One very important piece of information is the tread wear index, which indicates the tire’s resistance to tread wear. A tire with a grade of 200 should last twice as long, on average, as a tire with a grade of 100.\n",
        "A consumer organization wants to test the actual tread wear index of a brand name of tires that claims “graded 200” on the sidewall of the tire. A random sample of n = 18 indicates a sample mean tread wear index of 195.3 and a sample standard devia- tion of 21.4.\n",
        "\n",
        "1.   Is there evidence that the population mean tread wear index is different from 200? (Use a 0.05 level of significance.)\n",
        "2.   Determine the p-value and interpret its meaning.\n"
      ]
    },
    {
      "cell_type": "code",
      "metadata": {
        "id": "WN3fKDFVM3in"
      },
      "source": [
        "#Importing the appropriate Libraries\n",
        "import pandas as pd\n",
        "import numpy as np\n",
        "import scipy.stats as stats\n",
        "import math\n",
        "import matplotlib.pyplot as plt\n",
        "import seaborn as sns\n",
        "from scipy.stats import ttest_ind\n",
        "from scipy.stats import ttest_1samp"
      ],
      "execution_count": null,
      "outputs": []
    },
    {
      "cell_type": "code",
      "metadata": {
        "id": "eOV0l_iOPOT7",
        "colab": {
          "base_uri": "https://localhost:8080/"
        },
        "outputId": "581c1df0-c876-42cf-e49f-0c0fcfc3887b"
      },
      "source": [
        "#My null hypothesis is that Ho:mu=200, H1:mu<200\n",
        "# My alpha=0.05\n",
        "# t Test for Hypothesis of the Mean\n",
        "def t_stats(sample_mean,mu,sd,n):\n",
        "  t_statistic=(sample_mean-mu)/(sd/math.sqrt(n))\n",
        "  return t_statistic\n",
        "T_test=t_stats(195.3,200,21.4,18)\n",
        "#T statistic has given a value of -0.931.\n",
        "#We want to find the probability of a t-stat being lower than -0.9318 given the mean tear index =200\n",
        "#pval is probability distribution (area under the curve)at t=17 to the left of t stat..\n",
        "p_val=stats.norm.cdf(T_test)\n",
        "#This is the probability of getting a test statistic to the left of the t-distribution..\n",
        "print(p_val)\n",
        "alpha=0.05\n",
        "if p_val<alpha:\n",
        "  print('Reject the Null hypothesis Meaning theres a significant difference in the mean of 200')\n",
        "else:\n",
        "  print(\"We fail to reject the Null hpothesis ,theres no evidence that the population mean and the tread mean index 200 is different\")"
      ],
      "execution_count": null,
      "outputs": [
        {
          "output_type": "stream",
          "name": "stdout",
          "text": [
            "0.17572126094582619\n",
            "We fail to reject the Null hpothesis ,theres no evidence that the population mean and the tread mean index 200 is different\n"
          ]
        }
      ]
    },
    {
      "cell_type": "markdown",
      "metadata": {
        "id": "GBzjNgPqPkUQ"
      },
      "source": [
        "## Question 2"
      ]
    },
    {
      "cell_type": "markdown",
      "metadata": {
        "id": "6su2PWYPSwaB"
      },
      "source": [
        "The following data represents the amount of soft drink filled in a sample of 50 consecutive 2-liter bottles. The results, listed horizontally in the order of being filled, were:\n",
        "\n",
        "2.109 2.086 2.036 2.038 2.015 2.014 2.005 2.003 1.984 1.981 1.963 1.957 1.908 1.894\n",
        "2.066 2.075 2.031 2.029 2.013 2.014 1.999 1.996 1.973 1.975 1.951 1.951\n",
        "2.065 2.057 2.025 2.029 2.012 2.012 1.997 1.992 1.971 1.969 1.947 1.941\n",
        "2.052 2.044 2.023 2.020 2.012 2.010 1.994 1.986 1.966 1.967 1.941 1.938\n",
        "\n",
        "1. At the 0.05 level of significance, is there evidence that the mean amount of soft drink filled is different from 2.0 liters?\n",
        "2. Determine the p-value in (1) and interpret its meaning. \n",
        "3. In (1), you assumed that the distribution of the amount of soft drink filled was normally distributed. Evaluate this assumption by constructing a boxplot or a normal probability plot.\n",
        "4. Do you think that the assumption needed in order to conduct the t test in (1) is valid? Explain.\n",
        "5. Examine the values of the 50 bottles in their sequential order, as given in the problem. Does there appear to be a pattern to the results? If so, what impact might this pattern have on the validity of the results in (1)?"
      ]
    },
    {
      "cell_type": "code",
      "metadata": {
        "id": "fgiqIWaSPmNg",
        "colab": {
          "base_uri": "https://localhost:8080/"
        },
        "outputId": "c45c22b6-3c7a-4ae5-faa9-28cf42d5d518"
      },
      "source": [
        "#The null hypothesis Ho:mu=2.0 litres H1:mu!=2.0 \n",
        "sample_list=[2.109, 2.086 ,2.036, 2.038, 2.015, 2.014, 2.005 ,2.003 ,1.984, 1.981 ,1.963 ,1.957 ,1.908, 1.894, 2.066 ,2.075 ,2.031, 2.029, 2.013, 2.014, 1.999, 1.996, 1.973, 1.975, 1.951, 1.951, 2.065, 2.057, 2.025, 2.029, 2.012, 2.012, 1.997 ,1.992 ,1.971, 1.969, 1.947 ,1.941, 2.052 ,2.044 ,2.023, 2.020, 2.012, 2.010, 1.994, 1.986, 1.966, 1.967, 1.941 ,1.938]\n",
        "arr=np.array(sample_list)\n",
        "mean=np.sum(arr)/len(sample_list)\n",
        "mean \n",
        "# We find the z-score\n",
        "def z_stat(sample_mean,Po,n):\n",
        "  var_1=np.var(sample_list)\n",
        "  z_statistic=(sample_mean-Po)/math.sqrt(var_1)\n",
        "  return z_statistic\n",
        "Zstat=z_stat(mean,2,50)\n",
        "print(\"My zscore is\",Zstat)\n",
        "\n",
        "#P_value is the probability of getting an extreeme zscore that is either to the left or right of the z_distribution\n",
        "# #To the left\n",
        "pvaluel=stats.norm.cdf(Zstat)\n",
        "print(pvaluel)\n",
        "\n",
        "# To the right\n",
        "pvaluer=1-stats.norm.cdf(Zstat)\n",
        "print(pvaluer)\n",
        "#  # Sum \n",
        "# tot_pval=pvaluel+pvaluer\n",
        "# print(tot_pval)\n",
        "# alpha=0.05\n",
        "# if tot_pval<alpha:\n",
        "#   print('Reject the Null hypothesis Meaning theres a significant difference in the mean ')\n",
        "# else:\n",
        "#   print(\"We fail to reject the Null hpothesis ,evidence isnt enough to prove the mean is different from 2.0\")\n"
      ],
      "execution_count": null,
      "outputs": [
        {
          "output_type": "stream",
          "name": "stdout",
          "text": [
            "My zscore is 0.01632069255753862\n",
            "0.5065107252671234\n",
            "0.4934892747328766\n"
          ]
        }
      ]
    },
    {
      "cell_type": "code",
      "metadata": {
        "colab": {
          "base_uri": "https://localhost:8080/"
        },
        "id": "09nBXrqqK9yJ",
        "outputId": "007f2640-f8d2-4a37-c4ed-883a2ce60b4e"
      },
      "source": [
        "def z_stat(sample_mean,Po,sd):\n",
        "  z_statistic=(sample_mean-Po)/sd\n",
        "  return z_statistic\n",
        "\n",
        "Z_score=z_stat(0.32,0.25,0.025)\n",
        "print(Z_score)\n",
        "p_val=1-stats.norm.cdf(Z_score)\n",
        "print(p_val)"
      ],
      "execution_count": null,
      "outputs": [
        {
          "output_type": "stream",
          "name": "stdout",
          "text": [
            "2.8000000000000003\n",
            "0.0025551303304279793\n"
          ]
        }
      ]
    },
    {
      "cell_type": "code",
      "metadata": {
        "colab": {
          "base_uri": "https://localhost:8080/"
        },
        "id": "1OfEOGRULmo0",
        "outputId": "9d481b3e-2fef-4d73-a4fb-63076fd16b69"
      },
      "source": [
        "def t_stat(sample_mean,mu,n,sd):\n",
        "  t_statistic=(sample_mean-mu)/(sd/math.sqrt(n))\n",
        "  return t_statistic\n",
        "t_stat(30.45,30,250,5)\n",
        "T_stat=t_stat(30.45,30,250,5)\n",
        "print(\"My T_test is\",T_stat)"
      ],
      "execution_count": null,
      "outputs": [
        {
          "output_type": "stream",
          "name": "stdout",
          "text": [
            "My T_test is 1.4230249470757683\n"
          ]
        }
      ]
    },
    {
      "cell_type": "code",
      "metadata": {
        "colab": {
          "base_uri": "https://localhost:8080/"
        },
        "id": "PM8tubh0M_2N",
        "outputId": "190c5099-853b-4d50-f267-abe491741506"
      },
      "source": [
        "#my pvalue\n",
        "print(\"My p_value is\",1-stats.norm.cdf(Z_score))\n",
        "print(\"My p_value is\",1-stats.norm.cdf(T_stat))"
      ],
      "execution_count": null,
      "outputs": [
        {
          "output_type": "stream",
          "name": "stdout",
          "text": [
            "My p_value is 0.0025551303304279793\n",
            "My p_value is 0.07736446174268952\n"
          ]
        }
      ]
    },
    {
      "cell_type": "code",
      "metadata": {
        "colab": {
          "base_uri": "https://localhost:8080/"
        },
        "id": "FrnnqOu49la_",
        "outputId": "327b0301-b0f9-4ec8-c893-99e2a3bdbf98"
      },
      "source": [
        "t_statistic,pvalue=ttest_1samp(arr, mean, axis=0, nan_policy='propagate')\n",
        "t_statistic,pvalue"
      ],
      "execution_count": null,
      "outputs": [
        {
          "output_type": "execute_result",
          "data": {
            "text/plain": [
              "(0.0, 1.0)"
            ]
          },
          "metadata": {},
          "execution_count": 7
        }
      ]
    },
    {
      "cell_type": "code",
      "metadata": {
        "colab": {
          "base_uri": "https://localhost:8080/",
          "height": 366
        },
        "id": "YkGhQXm3nSER",
        "outputId": "5e42302f-2aa5-4dd7-d87f-a1b71f7267c4"
      },
      "source": [
        "#constructing a normal dist.\\\n",
        "df=pd.DataFrame(data=sample_list)\n",
        "df\n",
        "print(round(df[0].mean(),3))\n",
        "# ax,fig=plt.figure(figsize=(10,12))\n",
        "sns.distplot(df[0],kde=True)\n",
        "plt.title('Distribution of softdrinks in liters')\n",
        "plt.show()"
      ],
      "execution_count": null,
      "outputs": [
        {
          "output_type": "stream",
          "name": "stdout",
          "text": [
            "2.001\n"
          ]
        },
        {
          "output_type": "stream",
          "name": "stderr",
          "text": [
            "/usr/local/lib/python3.7/dist-packages/seaborn/distributions.py:2619: FutureWarning: `distplot` is a deprecated function and will be removed in a future version. Please adapt your code to use either `displot` (a figure-level function with similar flexibility) or `histplot` (an axes-level function for histograms).\n",
            "  warnings.warn(msg, FutureWarning)\n"
          ]
        },
        {
          "output_type": "display_data",
          "data": {
            "image/png": "[encoded data removed]",
            "text/plain": [
              "<Figure size 432x288 with 1 Axes>"
            ]
          },
          "metadata": {
            "needs_background": "light"
          }
        }
      ]
    },
    {
      "cell_type": "markdown",
      "metadata": {
        "id": "0MlbMO7mPoO8"
      },
      "source": [
        "## Question 3"
      ]
    },
    {
      "cell_type": "markdown",
      "metadata": {
        "id": "awqKcADiUdyT"
      },
      "source": [
        "The population mean waiting time to check out of a supermarket has been 4 minutes. recently, in an effort to reduce the waiting time, the supermarket has experimented with a system in which infrared cameras use body heat and in-store software to determine how many lanes should be opened. A sample of 100 customers was selected, and their mean waiting time to check out was 3.25 minutes, with a sample standard deviation of 2.7 minutes.\n",
        "\n",
        "1. At the 0.05 level of significance, using the p-value approach to hypothesis testing, is there evidence that the population mean waiting time to check out is less than 4 minutes?\n",
        "2. Interpret the meaning of the p-value in this problem.  "
      ]
    },
    {
      "cell_type": "code",
      "metadata": {
        "id": "86VoKwOMPrH1",
        "colab": {
          "base_uri": "https://localhost:8080/"
        },
        "outputId": "9cae0a48-7322-433e-b65f-a6d26a18f96a"
      },
      "source": [
        "#The null hypothesis Ho:mu=4 mins, alternate states H1:mu<4mins\n",
        "# Computing the z-statistic\n",
        "z_stat=(3.25-4)/2.7\n",
        "z_stat\n",
        "#Getting the probability of getting an extreeme z_stat thats less than -0.277 to the left of the z_distribution cosnidering the null hypothesis is true\n",
        "p_value=stats.norm.cdf(z_stat)\n",
        "p_value\n",
        "print(p_value)\n",
        "alpha=0.05\n",
        "if p_value<alpha:\n",
        "  print('Reject the Null hypothesis Meaning theres a difference in waiting time ie. Its less than four minutes')\n",
        "else:\n",
        "  print(\"We fail to reject the Null hpothesis ,it means that there's no difference in waiting time : its still four minutes\")"
      ],
      "execution_count": null,
      "outputs": [
        {
          "output_type": "stream",
          "name": "stdout",
          "text": [
            "0.39059147543357503\n",
            "We fail to reject the Null hpothesis ,it means that there's no difference in waiting time : its still four minutes\n"
          ]
        }
      ]
    },
    {
      "cell_type": "markdown",
      "metadata": {
        "id": "yGGq-E5IPrqz"
      },
      "source": [
        "## Question 4"
      ]
    },
    {
      "cell_type": "markdown",
      "metadata": {
        "id": "yFU6w1bNVRhO"
      },
      "source": [
        "A survey of nonprofit organizations showed that online fun- draising has increased in the past year. Based on a random sample of 55 nonprofit organizations, the mean one-time gift donation in the past year was Ksh. 750, with a standard deviation of Ksh. 900.\n",
        "\n",
        "1. If you test the null hypothesis at the 0.01 level of significance, is there evidence that the mean one-time gift donation is greater than Ksh. 700?\n",
        "2. Interpret the meaning of the p-value in this problem."
      ]
    },
    {
      "cell_type": "code",
      "metadata": {
        "id": "LPRpuQe1PtI0",
        "colab": {
          "base_uri": "https://localhost:8080/"
        },
        "outputId": "ce0ef636-0843-478e-a2ca-61c101682918"
      },
      "source": [
        "#The Null Hypothesis,Ho:mu=700:Theres no significant increase, H1:mu>700\n",
        "# Using z-test to carry out the observation\n",
        "z_stat1=(750-700)/55\n",
        "z_stat1\n",
        "#Getting the probability of getting a z-statistic thats greater than 0.909 ie, to the right of the z distribution considering the condtribution is 700\n",
        "p_value1=1-stats.norm.cdf(z_stat1)\n",
        "print(p_value1)\n",
        "thresh=0.01\n",
        "if p_value<thresh:\n",
        "  print('Reject the Null hypothesis Meaning theres a difference in donations, they are greater than 700 and not due to chance')\n",
        "else:\n",
        "  print(\"We fail to reject the Null hpothesis ,it means that there's no difference in donation and the result of >700 is just due to chance \")\n",
        " "
      ],
      "execution_count": null,
      "outputs": [
        {
          "output_type": "stream",
          "name": "stdout",
          "text": [
            "0.18165107044344897\n",
            "We fail to reject the Null hpothesis ,it means that there's no difference in donation and the result of >700 is just due to chance \n"
          ]
        }
      ]
    },
    {
      "cell_type": "markdown",
      "metadata": {
        "id": "pI5iuOyWPtiy"
      },
      "source": [
        "## Question 5"
      ]
    },
    {
      "cell_type": "markdown",
      "metadata": {
        "id": "1llPF-60lCVw"
      },
      "source": [
        "A problem with a phone line that prevents a customer from receiving or making calls is upsetting to both the customer and the telecommunications company. The file Phone contains samples of 20 problems reported to two different offices of a telecommuni- cations company and the time to clear these problems (in minutes) from the customers’ lines:\n",
        "\n",
        "Central Office I Time to Clear Problems (minutes)\n",
        "1.48 1.75 0.78 2.85 0.52 1.60 4.15 3.97 1.48 3.10 1.02 0.53 0.93 1.60 0.80 1.05 6.32 3.93 5.45 0.97\n",
        "\n",
        "Central Office II Time to Clear Problems (minutes)\n",
        "7.55 3.75 0.10 1.10 0.60 0.52 3.30 2.10 0.58 4.02 3.75 0.65 1.92 0.60 1.53 4.23 0.08 1.48 1.65 0.72\n",
        "\n",
        "1. Assuming that the population variances from both offices are equal, is there evidence of a difference in the mean waiting time between the two offices? (Use a = 0.05.)\n",
        "2. Find the p-value in (1) and interpret its meaning.\n",
        "3. What other assumption is necessary in (1)?\n",
        "4. Assuming that the population variances from both offices are equal, construct and interpret a 95% confidence interval estimate of the difference between the population means in the two offices."
      ]
    },
    {
      "cell_type": "code",
      "metadata": {
        "id": "-zGKBL30Pvii",
        "colab": {
          "base_uri": "https://localhost:8080/"
        },
        "outputId": "a3ad2219-758d-4246-bd99-44eee87b2e9a"
      },
      "source": [
        "#Two sample t test since the sample size is less than 20\n",
        "S1_list=[1.48,1.75,0.78,2.85,0.52,1.60,4.15,3.97,1.48,3.10,1.02,0.53,0.93,1.60,0.80,1.05,6.32,3.93,5.45,0.97]\n",
        "S2_list=[7.55,3.75,0.10 ,1.10, 0.60, 0.52, 3.30 ,2.10 ,0.58, 4.02, 3.75, 0.65, 1.92, 0.60, 1.53, 4.23, 0.08, 1.48, 1.65,0.72]\n",
        "# Stating the problenm\n",
        "#Is there significant difference in the mean time to clear problems?\n",
        "#Formulating a null hypothesis from that\n",
        "#Ho:S1_list=S2_list\n",
        "#H1:S1_list!=S2_list\n",
        "#mean 1\n",
        "arr1=np.array(S1_list)\n",
        "# mean1=sum(arr1)/len(S1_list)\n",
        "# mean1\n",
        "#mean2\n",
        "arr2=np.array(S2_list)\n",
        "# mean2=sum(arr2)/len(S2_list)\n",
        "# mean2\n",
        "#Computing the t statistic\n",
        "T_statistic,pvalue=ttest_ind(arr1, arr2, axis=0, equal_var=True)\n",
        "T_statistic,pvalue\n",
        "#Desicion\n",
        "alpha=0.05\n",
        "if pvalue<alpha:\n",
        "  print(\"reject the null hypothesis:There is a significant difference in the time to clear problems\")\n",
        "else:\n",
        "  print(\"Fail to reject the null hypothesis:There is no significant difference in the time to clear problems\")\n",
        "\n"
      ],
      "execution_count": null,
      "outputs": [
        {
          "output_type": "stream",
          "name": "stdout",
          "text": [
            "Fail to reject the null hypothesis:There is no significant difference in the time to clear problems\n"
          ]
        }
      ]
    },
    {
      "cell_type": "markdown",
      "metadata": {
        "id": "bJACLM_aPxgh"
      },
      "source": [
        "## Question 6"
      ]
    },
    {
      "cell_type": "markdown",
      "metadata": {
        "id": "b0reIjDDrIWX"
      },
      "source": [
        "A bank with a branch located in a commercial district of a city has the business objective of developing an improved process for serving customers during the noon-to-1 p.m. lunch period. Management decides to first study the waiting time in the current process. The waiting time is defined as the number of minutes that elapses from when the customer enters the line until he or she reaches the teller window. Data are collected from a random sample of 15 customers and stored in Bank1. \n",
        "\n",
        "These data are:\n",
        "4.21 5.55 3.02 5.13 4.77 2.34 3.54 3.20 4.50 6.10 0.38 5.12 6.46 6.19 3.79\n",
        "\n",
        "Suppose that another branch, located in a residential area, is also concerned with improving the process of serving customers in the noon-to-1 p.m. lunch period. Data are collected from a random sample of 15 customers and stored in Bank2. \n",
        "\n",
        "These data are:\n",
        "9.66 5.90 8.02 5.79 8.73 3.82 8.01 8.35 10.49 6.68 5.64 4.08 6.17 9.91 5.47\n",
        "\n",
        "\n",
        "1. Assuming that the population variances from both banks are equal, is there evidence of a difference in the mean waiting time between the two branches? (Use a = 0.05.)\n",
        "2. Determine the p-value in (a) and interpret its meaning.\n",
        "3. In addition to equal variances, what other assumption is neces-\n",
        "sary in (a)?\n",
        "4. Construct and interpret a 95% confidence interval estimate\n",
        "of the difference between the population means in the two branches."
      ]
    },
    {
      "cell_type": "code",
      "metadata": {
        "id": "wu5rk7fNPy6J",
        "colab": {
          "base_uri": "https://localhost:8080/"
        },
        "outputId": "45adea71-56e6-4fcc-eff1-e21c929e9679"
      },
      "source": [
        "#Two sample t test since the sample size is less than 30\n",
        "B1_list=[4.21, 5.55, 3.02, 5.13, 4.77, 2.34, 3.54, 3.20, 4.50, 6.10, 0.38, 5.12, 6.46, 6.19, 3.79]\n",
        "B2_list=[9.66, 5.90, 8.02, 5.79, 8.73, 3.82, 8.01, 8.35, 10.49, 6.68 ,5.64, 4.08, 6.17, 9.91 ,5.47]\n",
        "# Stating the problenm\n",
        "#Is there significant difference in the mean time to clear problems?\n",
        "#Formulating a null hypothesis from that\n",
        "#Ho:B1_list=B2_list\n",
        "#Ho:B1_list!=B2_list\n",
        "a=np.array(B1_list)\n",
        "\n",
        "b=np.array(B2_list)\n",
        "\n",
        "#Computing the t statistic\n",
        "T_statistic,pvalue=ttest_ind(a,b, axis=0, equal_var=True)\n",
        "print(T_statistic,pvalue)\n",
        "#Desicion\n",
        "alpha=0.05\n",
        "if pvalue<alpha:\n",
        "  print(\"reject the null hypothesis:There is a significant difference in the waiting time\")\n",
        "else:\n",
        "  print(\"Fail to reject the null hypothesis:There is no significant difference in the waiting time between noon to 1pm\")\n"
      ],
      "execution_count": null,
      "outputs": [
        {
          "output_type": "stream",
          "name": "stdout",
          "text": [
            "-4.1343062768616825 0.00029283923510711144\n",
            "reject the null hypothesis:There is a significant difference in the waiting time\n"
          ]
        }
      ]
    }
  ]
}